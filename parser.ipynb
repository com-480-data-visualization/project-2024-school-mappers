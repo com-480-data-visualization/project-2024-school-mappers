{
 "cells": [
  {
   "cell_type": "markdown",
   "id": "90e48fdb-fe07-4fe0-bf94-8d073eeb69dc",
   "metadata": {},
   "source": [
    "#### A parser to structure the country dataframe to JSON for the REACT website"
   ]
  },
  {
   "cell_type": "code",
   "execution_count": 19,
   "id": "88ef81a6-3bcf-4b30-bf8d-b3d7422c9e34",
   "metadata": {
    "execution": {
     "iopub.execute_input": "2024-05-29T20:51:33.075793Z",
     "iopub.status.busy": "2024-05-29T20:51:33.073336Z",
     "iopub.status.idle": "2024-05-29T20:51:33.152919Z",
     "shell.execute_reply": "2024-05-29T20:51:33.150303Z",
     "shell.execute_reply.started": "2024-05-29T20:51:33.075702Z"
    },
    "tags": []
   },
   "outputs": [],
   "source": [
    "import pandas as pd\n",
    "import json\n",
    "\n",
    "df = pd.read_csv('country_data.csv')\n",
    "\n",
    "structured_data = []\n",
    "\n",
    "for country in df['Country'].unique():\n",
    "    country_data = df[df['Country'] == country]\n",
    "    \n",
    "    country_info = {\n",
    "        'name': country,\n",
    "        'PISA score': {},\n",
    "        'PISA repartition': {},\n",
    "        'GDP/Capita': {},\n",
    "        'Litteracy rate': {},\n",
    "        'Population': None,\n",
    "        'HDI Rank': None,\n",
    "        'HDI': None,\n",
    "        'Income': {},\n",
    "        'Gini': None,\n",
    "        'Enrolment': {},\n",
    "        'Private school enrolment': {},\n",
    "        'School life expectancy': {},\n",
    "        'Gov. Expenditure on education': {},\n",
    "        'Dropout': None\n",
    "    }\n",
    "    \n",
    "    for index, row in country_data.iterrows():\n",
    "        variable = row['Variable']\n",
    "        detail = row['Detail']\n",
    "        value = row['Value']\n",
    "        year = row['Year']\n",
    "        description = row['Description']\n",
    "        source = row['Source']\n",
    "        \n",
    "        entry = {\n",
    "            'value': value,\n",
    "            'year': year,\n",
    "            'description': description,\n",
    "            'source': source\n",
    "        }\n",
    "        \n",
    "        if variable in ['GDP/Capita', 'PISA score','PISA repartition', 'Litteracy rate', 'Income', 'Enrolment', 'Private school enrolment', 'School life expectancy', 'Gov. Expenditure on education']:\n",
    "            if detail: \n",
    "                if variable not in country_info:\n",
    "                    country_info[variable] = {}\n",
    "                country_info[variable][detail] = entry\n",
    "            else:\n",
    "                country_info[variable] = entry \n",
    "        elif variable in [ 'Population', 'HDI Rank', 'HDI', 'Gini', 'Dropout']:\n",
    "            country_info[variable] = entry\n",
    "    \n",
    "    structured_data.append(country_info)\n",
    "\n",
    "with open('data.json', 'w') as json_file:\n",
    "    json.dump(structured_data, json_file, indent=4)\n"
   ]
  },
  {
   "cell_type": "code",
   "execution_count": null,
   "id": "de97cdf0-1f89-4833-80d4-96c6c5cafa14",
   "metadata": {},
   "outputs": [],
   "source": []
  }
 ],
 "metadata": {
  "kernelspec": {
   "display_name": "Python3",
   "language": "python",
   "name": "python3"
  },
  "language_info": {
   "codemirror_mode": {
    "name": "ipython",
    "version": 3
   },
   "file_extension": ".py",
   "mimetype": "text/x-python",
   "name": "python",
   "nbconvert_exporter": "python",
   "pygments_lexer": "ipython3",
   "version": "3.11.5"
  }
 },
 "nbformat": 4,
 "nbformat_minor": 5
}
